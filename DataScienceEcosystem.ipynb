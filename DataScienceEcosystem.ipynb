{
 "cells": [
  {
   "cell_type": "markdown",
   "id": "b3025758-ed23-49e4-bc0d-9faee570a99e",
   "metadata": {},
   "source": [
    "# Data Science Tools and Ecosystem"
   ]
  },
  {
   "cell_type": "markdown",
   "id": "03461efc-b2bc-4fa2-857b-74fa3a67617d",
   "metadata": {},
   "source": [
    "In this notebook, Data Science Tools and Ecosystem are summarized.\n"
   ]
  },
  {
   "attachments": {},
   "cell_type": "markdown",
   "id": "286a1159-406b-4ff0-b02d-0795891e5ece",
   "metadata": {},
   "source": [
    "### Some of the popular languages that Data Scientists use are:\r",
    "1. Python\n",
    "2. Java\n",
    "3. R\n",
    "4. SQL\n"
   ]
  },
  {
   "cell_type": "markdown",
   "id": "02342307-258b-4f31-a84b-1ae4d1b02265",
   "metadata": {},
   "source": [
    "### Some of the commonly used libraries used by Data Scientists include:\n",
    "1. Numpy\n",
    "2. Pandas\n",
    "3. Matplotlib\n",
    "4. Skit-Learn\n",
    "5. Os\n",
    "6. timedate"
   ]
  },
  {
   "cell_type": "markdown",
   "id": "db3c97c0-a16a-46a4-9945-fc5f87f09903",
   "metadata": {},
   "source": [
    "Sr.No | Data Science Tools\n",
    "----- | -------------\n",
    "1     |  Jupter NoteBook\n",
    "2     |      MySQL\n",
    "3     |     Github\n"
   ]
  },
  {
   "cell_type": "markdown",
   "id": "d95d8c3a-ddc2-4d01-a10e-990fda125600",
   "metadata": {},
   "source": [
    "### Below are a few examples of evaluating arithmetic expressions in Python.\r\n"
   ]
  },
  {
   "cell_type": "code",
   "execution_count": 2,
   "id": "5709182e-6c2c-4b08-94b4-8d9b13354cd3",
   "metadata": {},
   "outputs": [
    {
     "data": {
      "text/plain": [
       "17"
      ]
     },
     "execution_count": 2,
     "metadata": {},
     "output_type": "execute_result"
    }
   ],
   "source": [
    "#This a simple arithmetic expression to mutiply then add integers\n",
    "(3*4)+5"
   ]
  },
  {
   "cell_type": "code",
   "execution_count": 4,
   "id": "409dac93-9009-45e4-9aa6-f09b0c7b417a",
   "metadata": {},
   "outputs": [
    {
     "data": {
      "text/plain": [
       "3.33"
      ]
     },
     "execution_count": 4,
     "metadata": {},
     "output_type": "execute_result"
    }
   ],
   "source": [
    "# This will convert 200 minutes to hours by dividing by 60\n",
    "hours = 200 / 60\n",
    "round(hours,2)"
   ]
  },
  {
   "cell_type": "markdown",
   "id": "995d9ce0-03ad-4d12-b2d1-68f0e3504818",
   "metadata": {},
   "source": [
    "**Objectives:**\n",
    "+ Python\n",
    "+ Java\n",
    "+ SQL\n",
    "+ R"
   ]
  },
  {
   "cell_type": "markdown",
   "id": "19a28ee1-3955-4771-b026-f61722a81edd",
   "metadata": {},
   "source": [
    "## Author\n",
    "Bipin Rajput"
   ]
  },
  {
   "cell_type": "code",
   "execution_count": null,
   "id": "0c1e29f2-38b7-4404-a4f7-0a7f072ae170",
   "metadata": {},
   "outputs": [],
   "source": []
  }
 ],
 "metadata": {
  "kernelspec": {
   "display_name": "Python 3 (ipykernel)",
   "language": "python",
   "name": "python3"
  },
  "language_info": {
   "codemirror_mode": {
    "name": "ipython",
    "version": 3
   },
   "file_extension": ".py",
   "mimetype": "text/x-python",
   "name": "python",
   "nbconvert_exporter": "python",
   "pygments_lexer": "ipython3",
   "version": "3.11.7"
  }
 },
 "nbformat": 4,
 "nbformat_minor": 5
}
